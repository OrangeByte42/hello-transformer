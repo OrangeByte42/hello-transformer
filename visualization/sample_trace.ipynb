{
 "cells": [
  {
   "cell_type": "code",
   "execution_count": 64,
   "id": "7cb6e4fe",
   "metadata": {},
   "outputs": [],
   "source": [
    "import os\n",
    "from typing import Any, List\n",
    "\n",
    "from utils.utils import load_obj_by_pickle"
   ]
  },
  {
   "cell_type": "code",
   "execution_count": 65,
   "id": "c08ba790",
   "metadata": {},
   "outputs": [],
   "source": [
    "# Load the prediction trace data\n",
    "runtime_name: str = \"bert-with-ddp\"\n",
    "sample_trace_path: str = os.path.join(\"..\", \"outs\", runtime_name, \"sample_traces\", \"sample_trace.pkl\")\n",
    "\n",
    "data: Any = load_obj_by_pickle(sample_trace_path)"
   ]
  },
  {
   "cell_type": "code",
   "execution_count": 66,
   "id": "86085bcf",
   "metadata": {},
   "outputs": [
    {
     "name": "stdout",
     "output_type": "stream",
     "text": [
      "<class 'list'> 48 <class 'dict'>\n",
      "\n",
      "dict_keys(['src', 'ref', 'hyp'])\n",
      "<class 'str'>\n",
      "<class 'list'> 100\n",
      "\n",
      "a group of men are loading cotton onto a truck\n",
      "\thyp 1: a woman a of a of a.....\n",
      "\thyp 2: a group of group of group of men are are are are are are are are are are are are are are are are are are are..................................................................... of a group of a group of group of a group of a group of a group of group of group of group of group of group of group of group of group of group of group of group of group of group of group of group of\n",
      "\thyp 3: a group of men are are are on a group of men are on a group of men...\n",
      "\thyp 4: a group of men are working on a large table.....\n",
      "\thyp 5: a group of men are using a truck on a truck..\n",
      "\thyp 6: a group of men are using some sort of truck..\n",
      "\thyp 7: a group of men are preparing a truck......\n",
      "\thyp 8: a group of men are using fish truck......\n",
      "\thyp 9: a group of men are putting up a truck on a truck...\n",
      "\thyp 10: a group of men is putting items on a truck......\n"
     ]
    }
   ],
   "source": [
    "# Display data basic information\n",
    "print(type(data), len(data), type(data[0]), end=\"\\n\\n\")\n",
    "\n",
    "print(data[0].keys())\n",
    "print(type(data[0][\"ref\"]))\n",
    "print(type(data[0][\"hyp\"]), len(data[0][\"hyp\"]), end=\"\\n\\n\")\n",
    "\n",
    "print(data[0][\"ref\"])\n",
    "for i in range(10):\n",
    "    print(f\"\\thyp {i + 1}: {data[0]['hyp'][i]}\")"
   ]
  },
  {
   "cell_type": "code",
   "execution_count": 67,
   "id": "9232695a",
   "metadata": {},
   "outputs": [
    {
     "name": "stdout",
     "output_type": "stream",
     "text": [
      "[[[Input Prompt]]]:             Ein Mann mit beginnender Glatze, der eine rote Rettungsweste trägt, sitzt in einem kleinen Boot.\n",
      "[[[Reference]]]:                a balding man wearing a red life jacket is sitting in a small boat.\n",
      "\n",
      "[[[Transformer Hypotheses]]]:\n",
      "Epoch 00----------------a man in a with a with a with a with a with a with a with a with a with a with a with a with a with a with a with a with a with a with a with a with a with a.\n",
      "Epoch 01----------------a man in a blue shirt is wearing a blue shirt is wearing a blue shirt is wearing a blue shirt, wearing a blue shirt is is is sitting with a man, with a man, wearing a man with a man with a man with a man with a man, wearing a man, wearing a man with a man with a man with a man with a man with a man with a man with a man with a man with a man with a man with a man with a man with a man with a man with a man with a man with a man with a man with a man with a man with a man with a man with a man with a man with a man with a man with a man with a man with a man with a man with a man with a man with a man with a man with a man with a man with a man with a man with a man with a man with a man with a man with a man with a man with a man with a man with a man with a man with a man with a man with a man with a man with a man with a man with a man with a man with his - - - - - - - - - - - - with his - - - - - with his - with his\n",
      "Epoch 02----------------a man in a red shirt is sitting on a red hat with a red hat with his hat with his hat.\n",
      "Epoch 03----------------a man wearing a red hat is sitting on a red chair with a red car....\n",
      "Epoch 04----------------a man wearing a long - hair is sitting in a red boat with a small boat..\n",
      "Epoch 05----------------a man wearing a bright red vest is sitting in a small boat..\n",
      "Epoch 06----------------a bald man wearing a red vest is wearing a red vest is sitting in a small boat.\n",
      "Epoch 07----------------a balding man wearing a red life jacket is sitting in a small boat..\n",
      "Epoch 08----------------a balding man wearing a red life jacket is sitting in a small boat.\n",
      "Epoch 09----------------a bald man wearing a red life jacket is wearing a red life jacket is sitting in a boat.\n",
      "Epoch 10----------------a balding man wearing a red life vest is sitting in a small boat..\n",
      "Epoch 15----------------a bald man wearing a red life vest sits in a small boat....\n",
      "Epoch 20----------------a balding man wearing a red life jacket is sitting in a small boat..\n",
      "Epoch 25----------------a balding man wearing a red life jacket is sitting in a small boat..\n",
      "Epoch 30----------------a balding man wearing a red life jacket sits in a small boat...\n",
      "Epoch 35----------------a balding man wearing a red life jacket sits in a small boat...\n",
      "Epoch 40----------------a balding man wearing a red life vest is sitting in a small boat...\n",
      "Epoch 45----------------a balding man wearing a red life vest is sitting in a small boat...\n",
      "Epoch 50----------------a balding man wearing a red life vest is sitting in a small boat...\n",
      "Epoch 55----------------a balding man wearing a red life vest is sitting in a small boat..\n",
      "Epoch 60----------------a balding balding in a red life jacket sits in a small boat..\n",
      "Epoch 65----------------a balding man wearing a red life vest is sitting in a small boat....\n",
      "Epoch 70----------------a balding man wearing a red life vest is sitting in a small boat..\n",
      "Epoch 75----------------a balding man in a red life vest is sitting in a small boat...\n",
      "Epoch 80----------------a balding man wearing a red life vest is sitting in a small boat...\n",
      "Epoch 85----------------a balding man wearing a red life vest is sitting in a small boat...\n",
      "Epoch 90----------------a balding man wearing a red life vest is sitting in a small boat...\n",
      "Epoch 95----------------a balding man wearing a red life vest is sitting in a small boat...\n"
     ]
    }
   ],
   "source": [
    "# Get sample trace show\n",
    "show_sample_idx: int = 1\n",
    "show_src: str = data[show_sample_idx][\"src\"]\n",
    "show_ref: str = data[show_sample_idx][\"ref\"]\n",
    "show_hyp_idxs: List[int] = list(range(10)) + list(range(10, len(data[show_sample_idx][\"hyp\"]), 5))\n",
    "show_hyps: List[str] = [data[show_sample_idx][\"hyp\"][i] for i in show_hyp_idxs]\n",
    "\n",
    "print(f\"[[[Input Prompt]]]:             {show_src}\")\n",
    "print(f\"[[[Reference]]]:                {show_ref}\")\n",
    "print(\"\\n\", end=\"\")\n",
    "print(f\"[[[Transformer Hypotheses]]]:\")\n",
    "for idx, hyp in zip(show_hyp_idxs, show_hyps):\n",
    "    print(f\"Epoch {idx:0>2d}----------------{hyp}\")\n",
    "\n",
    "# Then, go https://carbon.now.sh/ to generate the image"
   ]
  }
 ],
 "metadata": {
  "kernelspec": {
   "display_name": ".venv",
   "language": "python",
   "name": "python3"
  },
  "language_info": {
   "codemirror_mode": {
    "name": "ipython",
    "version": 3
   },
   "file_extension": ".py",
   "mimetype": "text/x-python",
   "name": "python",
   "nbconvert_exporter": "python",
   "pygments_lexer": "ipython3",
   "version": "3.9.23"
  }
 },
 "nbformat": 4,
 "nbformat_minor": 5
}
