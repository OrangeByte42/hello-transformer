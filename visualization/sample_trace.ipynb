{
 "cells": [
  {
   "cell_type": "code",
   "execution_count": 2,
   "id": "7cb6e4fe",
   "metadata": {},
   "outputs": [],
   "source": [
    "import os\n",
    "from typing import Any, List\n",
    "\n",
    "from utils.utils import load_obj_by_pickle"
   ]
  },
  {
   "cell_type": "code",
   "execution_count": 3,
   "id": "c08ba790",
   "metadata": {},
   "outputs": [],
   "source": [
    "# Load the prediction trace data\n",
    "runtime_name: str = \"bert-with-ddp\"\n",
    "sample_trace_path: str = os.path.join(\"..\", \"outs\", runtime_name, \"sample_traces\", \"sample_trace.pkl\")\n",
    "\n",
    "data: Any = load_obj_by_pickle(sample_trace_path)"
   ]
  },
  {
   "cell_type": "code",
   "execution_count": 4,
   "id": "86085bcf",
   "metadata": {},
   "outputs": [
    {
     "name": "stdout",
     "output_type": "stream",
     "text": [
      "<class 'list'> 48 <class 'dict'>\n",
      "\n",
      "dict_keys(['src', 'ref', 'hyp'])\n",
      "<class 'str'>\n",
      "<class 'list'> 100\n",
      "\n",
      "a boy wearing headphones sits on a woman ' s shoulders.\n",
      "\thyp 1: \n",
      "\thyp 2: a man man in in a a a a a a a a a a a a a a a.................\n",
      "\thyp 3: a woman is is is is is is is is is is is is on a shirt....................................................................................................\n",
      "\thyp 4: a woman with a blue blue shirt is is is is is is is is is is is is is is on a blue is is with a blue is on a blue on a blue is on a blue is on a blue shirt..............................................\n",
      "\thyp 5: a young young young young young young young young young young young young young young young young young young young young young young young young young young young boy sitting is sitting on a street.... street. street. street. street. street. street. street...... street street street street street street street street... street.. street street street street street street street street street street street street street street street street.. street. street street street.. street street.. street street\n",
      "\thyp 6: a boy sits on a sidewalk with a sidewalk..\n",
      "\thyp 7: a boy with a red shirt is sitting on the street...\n",
      "\thyp 8: a boy with a boy sits on the camera with his chair...\n",
      "\thyp 9: a young boy with a boy sits on the camera...\n",
      "\thyp 10: a young boy with glasses is sitting on a camera....\n"
     ]
    }
   ],
   "source": [
    "# Display data basic information\n",
    "print(type(data), len(data), type(data[0]), end=\"\\n\\n\")\n",
    "\n",
    "print(data[0].keys())\n",
    "print(type(data[0][\"ref\"]))\n",
    "print(type(data[0][\"hyp\"]), len(data[0][\"hyp\"]), end=\"\\n\\n\")\n",
    "\n",
    "print(data[0][\"ref\"])\n",
    "for i in range(10):\n",
    "    print(f\"\\thyp {i + 1}: {data[0]['hyp'][i]}\")"
   ]
  },
  {
   "cell_type": "code",
   "execution_count": 5,
   "id": "9232695a",
   "metadata": {},
   "outputs": [
    {
     "name": "stdout",
     "output_type": "stream",
     "text": [
      "[[[Input Prompt]]]:             Ein brauner Hund rennt dem schwarzen Hund hinterher.\n",
      "[[[Reference]]]:                a brown dog is running after the black dog.\n",
      "\n",
      "[[[Transformer Hypotheses]]]:\n",
      "Epoch 00----------------\n",
      "Epoch 01----------------a man man in is a a a a......................\n",
      "Epoch 02----------------a dog is dog is is is is is is.......................................................................................\n",
      "Epoch 03----------------a dog is dog is dog in a dog.......\n",
      "Epoch 04----------------a dog is dog is dog in a dog...........\n",
      "Epoch 05----------------a brown dog is dog is dog through the grass...\n",
      "Epoch 06----------------a brown dog is running through the grass...\n",
      "Epoch 07----------------a brown dog is running through the grass...\n",
      "Epoch 08----------------a brown dog is running through the grass..\n",
      "Epoch 09----------------a black dog is running through the grass..\n",
      "Epoch 10----------------a brown dog is running through the grass..\n",
      "Epoch 15----------------a brown dog is running through the brown dog..\n",
      "Epoch 20----------------a black dog runs through the brown dog..\n",
      "Epoch 25----------------a brown dog runs through the black dog.\n",
      "Epoch 30----------------a brown dog runs through the black dog..\n",
      "Epoch 35----------------a brown dog runs after the black dog...\n",
      "Epoch 40----------------a brown dog runs towards the black dog.\n",
      "Epoch 45----------------a brown dog runs after the black dog..\n",
      "Epoch 50----------------a brown dog runs after the black dog...\n",
      "Epoch 55----------------a brown dog runs after the black dog.\n",
      "Epoch 60----------------a brown dog chases the black dog after the black dog.....\n",
      "Epoch 65----------------a brown dog chases the black dog after the black dog....\n",
      "Epoch 70----------------a brown dog chases the black dog......\n",
      "Epoch 75----------------a brown dog chases the black dog after the black dog....\n",
      "Epoch 80----------------a brown dog running after the black dog.....\n",
      "Epoch 85----------------a brown dog chases the black dog.....\n",
      "Epoch 90----------------a brown dog running after the black dog......\n",
      "Epoch 95----------------a brown dog chases the black dog......\n"
     ]
    }
   ],
   "source": [
    "# Get sample trace show\n",
    "show_sample_idx: int = 1\n",
    "show_src: str = data[show_sample_idx][\"src\"]\n",
    "show_ref: str = data[show_sample_idx][\"ref\"]\n",
    "show_hyp_idxs: List[int] = list(range(10)) + list(range(10, len(data[show_sample_idx][\"hyp\"]), 5))\n",
    "show_hyps: List[str] = [data[show_sample_idx][\"hyp\"][i] for i in show_hyp_idxs]\n",
    "\n",
    "print(f\"[[[Input Prompt]]]:             {show_src}\")\n",
    "print(f\"[[[Reference]]]:                {show_ref}\")\n",
    "print(\"\\n\", end=\"\")\n",
    "print(f\"[[[Transformer Hypotheses]]]:\")\n",
    "for idx, hyp in zip(show_hyp_idxs, show_hyps):\n",
    "    print(f\"Epoch {idx:0>2d}----------------{hyp}\")\n",
    "\n",
    "# Then, go https://carbon.now.sh/ to generate the image"
   ]
  }
 ],
 "metadata": {
  "kernelspec": {
   "display_name": ".venv",
   "language": "python",
   "name": "python3"
  },
  "language_info": {
   "codemirror_mode": {
    "name": "ipython",
    "version": 3
   },
   "file_extension": ".py",
   "mimetype": "text/x-python",
   "name": "python",
   "nbconvert_exporter": "python",
   "pygments_lexer": "ipython3",
   "version": "3.9.23"
  }
 },
 "nbformat": 4,
 "nbformat_minor": 5
}
